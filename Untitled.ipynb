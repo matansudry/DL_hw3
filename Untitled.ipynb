{
 "cells": [
  {
   "cell_type": "code",
   "execution_count": 7,
   "metadata": {},
   "outputs": [
    {
     "name": "stdout",
     "output_type": "stream",
     "text": [
      "Random Seed:  999\n"
     ]
    },
    {
     "data": {
      "text/plain": [
       "<torch._C.Generator at 0x7fd9b41482d0>"
      ]
     },
     "execution_count": 7,
     "metadata": {},
     "output_type": "execute_result"
    }
   ],
   "source": [
    "from __future__ import print_function\n",
    "#%matplotlib inline\n",
    "import argparse\n",
    "import os\n",
    "import random\n",
    "import torch\n",
    "import torch.nn as nn\n",
    "import torch.nn.parallel\n",
    "import torch.backends.cudnn as cudnn\n",
    "import torch.optim as optim\n",
    "import torch.utils.data\n",
    "import torchvision.datasets as dset\n",
    "import torchvision.transforms as transforms\n",
    "import torchvision.utils as vutils\n",
    "import numpy as np\n",
    "import matplotlib.pyplot as plt\n",
    "import matplotlib.animation as animation\n",
    "from IPython.display import HTML\n",
    "import torchvision\n",
    "\n",
    "# Set random seed for reproducibility\n",
    "manualSeed = 999\n",
    "#manualSeed = random.randint(1, 10000) # use if you want new results\n",
    "print(\"Random Seed: \", manualSeed)\n",
    "random.seed(manualSeed)\n",
    "torch.manual_seed(manualSeed)"
   ]
  },
  {
   "cell_type": "code",
   "execution_count": 8,
   "metadata": {},
   "outputs": [],
   "source": [
    "def get_celeba(batch_size, dataset_directory, dataloader_workers):\n",
    "    train_transformation = transforms.Compose([\n",
    "        transforms.Resize((128, 128)),\n",
    "        transforms.ToTensor(),\n",
    "        transforms.Normalize((0.5, 0.5, 0.5), (0.5, 0.5, 0.5)),\n",
    "    ])\n",
    "    train_dataset = torchvision.datasets.ImageFolder(dataset_directory + 'CelebA', train_transformation)\n",
    "\n",
    "    # Use sampler for randomization\n",
    "    training_sampler = torch.utils.data.SubsetRandomSampler(range(len(train_dataset)))\n",
    "\n",
    "    # Prepare Data Loaders for training and validation\n",
    "    train_loader = torch.utils.data.DataLoader(train_dataset, batch_size=batch_size, sampler=training_sampler,\n",
    "                                               pin_memory=True, num_workers=dataloader_workers)\n",
    "\n",
    "    return train_dataset, train_loader"
   ]
  },
  {
   "cell_type": "code",
   "execution_count": 9,
   "metadata": {},
   "outputs": [],
   "source": [
    "train_dataset, train_loader = get_celeba(256, \"data/\", 1)"
   ]
  },
  {
   "cell_type": "code",
   "execution_count": 73,
   "metadata": {},
   "outputs": [
    {
     "name": "stdout",
     "output_type": "stream",
     "text": [
      "(tensor([[[ 0.9843,  0.9843,  0.9843,  ...,  0.9922,  0.9922,  0.9922],\n",
      "         [ 0.9843,  0.9843,  0.9843,  ...,  0.9843,  0.9922,  0.9843],\n",
      "         [ 0.9843,  0.9843,  0.9843,  ...,  0.9843,  0.9843,  0.9922],\n",
      "         ...,\n",
      "         [ 0.9843,  0.9765,  0.9765,  ...,  0.9137,  0.9216,  0.9216],\n",
      "         [ 0.9765,  0.9843,  0.9843,  ...,  0.8745,  0.9451,  0.9294],\n",
      "         [ 0.9843,  0.9843,  0.9843,  ...,  0.8824,  0.9451,  0.9059]],\n",
      "\n",
      "        [[ 0.8118,  0.8118,  0.8118,  ...,  0.9059,  0.9137,  0.9137],\n",
      "         [ 0.8118,  0.8118,  0.8118,  ...,  0.8980,  0.9059,  0.8980],\n",
      "         [ 0.8118,  0.8118,  0.8118,  ...,  0.8902,  0.8980,  0.8980],\n",
      "         ...,\n",
      "         [ 0.7176,  0.7098,  0.7098,  ...,  0.1922,  0.2157,  0.2549],\n",
      "         [ 0.7020,  0.7098,  0.7098,  ...,  0.0667,  0.3020,  0.3725],\n",
      "         [ 0.7098,  0.7098,  0.7098,  ...,  0.0431,  0.2784,  0.3804]],\n",
      "\n",
      "        [[ 0.5059,  0.5137,  0.5294,  ...,  0.7255,  0.7255,  0.7255],\n",
      "         [ 0.5059,  0.5137,  0.5294,  ...,  0.7412,  0.7412,  0.7333],\n",
      "         [ 0.5059,  0.5137,  0.5294,  ...,  0.7569,  0.7569,  0.7569],\n",
      "         ...,\n",
      "         [ 0.3882,  0.3804,  0.3804,  ..., -0.2392, -0.2314, -0.1765],\n",
      "         [ 0.3725,  0.3804,  0.3804,  ..., -0.3725, -0.1922, -0.1294],\n",
      "         [ 0.3804,  0.3804,  0.3804,  ..., -0.4039, -0.1686, -0.0275]]]), 2)\n"
     ]
    }
   ],
   "source": [
    "for i in train_dataset:\n",
    "    print (i)\n",
    "    break"
   ]
  },
  {
   "cell_type": "code",
   "execution_count": 10,
   "metadata": {},
   "outputs": [],
   "source": [
    "for (x,y) in train_loader:\n",
    "    break"
   ]
  },
  {
   "cell_type": "code",
   "execution_count": 12,
   "metadata": {},
   "outputs": [
    {
     "data": {
      "text/plain": [
       "torch.Size([256, 3, 128, 128])"
      ]
     },
     "execution_count": 12,
     "metadata": {},
     "output_type": "execute_result"
    }
   ],
   "source": [
    "x.shape"
   ]
  },
  {
   "cell_type": "code",
   "execution_count": 66,
   "metadata": {},
   "outputs": [
    {
     "name": "stderr",
     "output_type": "stream",
     "text": [
      "Clipping input data to the valid range for imshow with RGB data ([0..1] for floats or [0..255] for integers).\n"
     ]
    },
    {
     "name": "stdout",
     "output_type": "stream",
     "text": [
      "tensor(3)\n"
     ]
    },
    {
     "data": {
      "image/png": "[encoded data removed]",
      "text/plain": [
       "<Figure size 432x288 with 1 Axes>"
      ]
     },
     "metadata": {
      "needs_background": "light"
     },
     "output_type": "display_data"
    }
   ],
   "source": [
    "plt.imshow(x[0].permute(1, 2, 0))\n",
    "print(y[0])"
   ]
  },
  {
   "cell_type": "code",
   "execution_count": 67,
   "metadata": {},
   "outputs": [
    {
     "data": {
      "text/plain": [
       "tensor([3, 3, 3, 3, 3, 3, 3, 3, 3, 3, 3, 3, 3, 3, 3, 4, 4, 3, 3, 4, 3, 4, 3, 4,\n",
       "        3, 3, 3, 3, 3, 4, 3, 4, 2, 4, 2, 3, 3, 3, 3, 3, 3, 3, 3, 3, 3, 4, 2, 3,\n",
       "        3, 3, 2, 3, 3, 3, 4, 4, 2, 3, 3, 3, 4, 3, 3, 3, 3, 3, 3, 2, 3, 3, 3, 4,\n",
       "        3, 3, 4, 3, 4, 3, 3, 2, 3, 3, 3, 3, 3, 4, 3, 3, 3, 3, 3, 2, 3, 4, 2, 2,\n",
       "        3, 3, 3, 3, 3, 3, 3, 3, 3, 3, 3, 3, 4, 3, 2, 3, 3, 3, 2, 3, 2, 4, 3, 2,\n",
       "        3, 3, 3, 3, 3, 2, 4, 3, 3, 3, 4, 4, 3, 3, 3, 4, 3, 3, 4, 3, 4, 4, 3, 3,\n",
       "        3, 3, 4, 3, 3, 3, 4, 3, 4, 2, 3, 3, 4, 4, 3, 3, 3, 3, 3, 3, 2, 3, 3, 3,\n",
       "        4, 2, 3, 2, 3, 4, 2, 3, 3, 4, 3, 4, 3, 3, 3, 3, 3, 4, 3, 3, 3, 3, 3, 2,\n",
       "        2, 3, 3, 2, 3, 3, 3, 3, 3, 3, 2, 4, 3, 3, 3, 3, 3, 3, 3, 3, 4, 3, 3, 4,\n",
       "        3, 2, 3, 3, 3, 4, 2, 3, 3, 4, 3, 3, 4, 3, 3, 4, 3, 3, 3, 3, 4, 3, 2, 2,\n",
       "        3, 3, 3, 2, 3, 3, 3, 3, 3, 3, 3, 3, 2, 3, 4, 4])"
      ]
     },
     "execution_count": 67,
     "metadata": {},
     "output_type": "execute_result"
    }
   ],
   "source": [
    "y"
   ]
  },
  {
   "cell_type": "code",
   "execution_count": null,
   "metadata": {},
   "outputs": [],
   "source": []
  }
 ],
 "metadata": {
  "kernelspec": {
   "display_name": "matan_env",
   "language": "python",
   "name": "matan_env"
  },
  "language_info": {
   "codemirror_mode": {
    "name": "ipython",
    "version": 3
   },
   "file_extension": ".py",
   "mimetype": "text/x-python",
   "name": "python",
   "nbconvert_exporter": "python",
   "pygments_lexer": "ipython3",
   "version": "3.7.4"
  }
 },
 "nbformat": 4,
 "nbformat_minor": 4
}
